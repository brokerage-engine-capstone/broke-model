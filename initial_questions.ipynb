{
 "cells": [
  {
   "cell_type": "markdown",
   "metadata": {
    "toc": true
   },
   "source": [
    "<h1>Table of Contents<span class=\"tocSkip\"></span></h1>\n",
    "<div class=\"toc\"><ul class=\"toc-item\"></ul></div>"
   ]
  },
  {
   "cell_type": "markdown",
   "metadata": {},
   "source": [
    "* Brokerage Agency may have an impact on agent performance but we want to remain brokerage-agnostic.\n",
    "* Commission Schedule ID - is this relevant?\n",
    "* Commission split and volume may be correlated - tenure may also have an impact.\n",
    "* What is Commission Schedule Active?  Should we drop?\n",
    "* What is Transaction Number?\n",
    "* If multiple rows have the same transaction ids and multiple agents, are these split?\n",
    "* What happens when an agent leaves the agency?\n",
    "* Listing price would be very valuable information.\n",
    "* Can we get a better understanding of agent tenure?\n",
    "* Is 5mil reasonable for a top performer?\n",
    "* What does BE want as a deliverable?\n",
    "* Can we use mean/median units and volume as a metric?\n",
    "* More information on agents?  Age, Gender, City, Vehicle, Full/Part Time Status, Favorite Pizza Toppings"
   ]
  }
 ],
 "metadata": {
  "kernelspec": {
   "display_name": "Python 3",
   "language": "python",
   "name": "python3"
  },
  "language_info": {
   "codemirror_mode": {
    "name": "ipython",
    "version": 3
   },
   "file_extension": ".py",
   "mimetype": "text/x-python",
   "name": "python",
   "nbconvert_exporter": "python",
   "pygments_lexer": "ipython3",
   "version": "3.7.1"
  },
  "toc": {
   "base_numbering": 1,
   "nav_menu": {},
   "number_sections": true,
   "sideBar": true,
   "skip_h1_title": false,
   "title_cell": "Table of Contents",
   "title_sidebar": "Contents",
   "toc_cell": true,
   "toc_position": {
    "height": "calc(100% - 180px)",
    "left": "10px",
    "top": "150px",
    "width": "165px"
   },
   "toc_section_display": true,
   "toc_window_display": true
  }
 },
 "nbformat": 4,
 "nbformat_minor": 2
}
