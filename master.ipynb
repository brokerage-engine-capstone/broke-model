{
 "cells": [
  {
   "cell_type": "markdown",
   "metadata": {
    "toc": true
   },
   "source": [
    "<h1>Table of Contents<span class=\"tocSkip\"></span></h1>\n",
    "<div class=\"toc\"><ul class=\"toc-item\"><li><span><a href=\"#Environment\" data-toc-modified-id=\"Environment-1\"><span class=\"toc-item-num\">1&nbsp;&nbsp;</span>Environment</a></span></li><li><span><a href=\"#Acquisition\" data-toc-modified-id=\"Acquisition-2\"><span class=\"toc-item-num\">2&nbsp;&nbsp;</span>Acquisition</a></span></li><li><span><a href=\"#Preparation\" data-toc-modified-id=\"Preparation-3\"><span class=\"toc-item-num\">3&nbsp;&nbsp;</span>Preparation</a></span><ul class=\"toc-item\"><li><span><a href=\"#Encoding-various-ID-fields-for-readability-and-future-usage.\" data-toc-modified-id=\"Encoding-various-ID-fields-for-readability-and-future-usage.-3.1\"><span class=\"toc-item-num\">3.1&nbsp;&nbsp;</span>Encoding various ID fields for readability and future usage.</a></span></li><li><span><a href=\"#Correcting-dates-that-won't-get-transitioned-over\" data-toc-modified-id=\"Correcting-dates-that-won't-get-transitioned-over-3.2\"><span class=\"toc-item-num\">3.2&nbsp;&nbsp;</span>Correcting dates that won't get transitioned over</a></span></li><li><span><a href=\"#Converting-non-times-to-actual-times\" data-toc-modified-id=\"Converting-non-times-to-actual-times-3.3\"><span class=\"toc-item-num\">3.3&nbsp;&nbsp;</span>Converting non-times to actual times</a></span></li><li><span><a href=\"#Column-cleanup\" data-toc-modified-id=\"Column-cleanup-3.4\"><span class=\"toc-item-num\">3.4&nbsp;&nbsp;</span>Column cleanup</a></span><ul class=\"toc-item\"><li><span><a href=\"#Bonus-Columns-Removing-these-due-to-98%+-nulls\" data-toc-modified-id=\"Bonus-Columns-Removing-these-due-to-98%+-nulls-3.4.1\"><span class=\"toc-item-num\">3.4.1&nbsp;&nbsp;</span>Bonus Columns Removing these due to 98%+ nulls</a></span></li><li><span><a href=\"#Dropping-standard_commission_type-as-it-only-has-one-variable-and-nulls\" data-toc-modified-id=\"Dropping-standard_commission_type-as-it-only-has-one-variable-and-nulls-3.4.2\"><span class=\"toc-item-num\">3.4.2&nbsp;&nbsp;</span>Dropping standard_commission_type as it only has one variable and nulls</a></span></li><li><span><a href=\"#Imputing-nulls-with-0\" data-toc-modified-id=\"Imputing-nulls-with-0-3.4.3\"><span class=\"toc-item-num\">3.4.3&nbsp;&nbsp;</span>Imputing nulls with 0</a></span></li></ul></li></ul></li><li><span><a href=\"#Exploration\" data-toc-modified-id=\"Exploration-4\"><span class=\"toc-item-num\">4&nbsp;&nbsp;</span>Exploration</a></span></li><li><span><a href=\"#Modeling\" data-toc-modified-id=\"Modeling-5\"><span class=\"toc-item-num\">5&nbsp;&nbsp;</span>Modeling</a></span></li></ul></div>"
   ]
  },
  {
   "cell_type": "markdown",
   "metadata": {},
   "source": [
    "## Environment "
   ]
  },
  {
   "cell_type": "code",
   "execution_count": 7,
   "metadata": {
    "ExecuteTime": {
     "end_time": "2019-05-28T19:29:45.334590Z",
     "start_time": "2019-05-28T19:29:45.324334Z"
    }
   },
   "outputs": [],
   "source": [
    "import numpy as np\n",
    "import pandas as pd\n",
    "\n",
    "# visualization\n",
    "import matplotlib.pyplot as plt\n",
    "%matplotlib inline\n",
    "import seaborn as sns\n",
    "\n",
    "from sklearn.preprocessing import LabelEncoder\n",
    "\n",
    "import warnings\n",
    "warnings.filterwarnings(\"ignore\")\n",
    "\n",
    "pd.set_option('display.max_rows', 1000)\n",
    "pd.set_option('display.max_columns', 500)\n",
    "pd.set_option('display.width', 1000)\n",
    "pd.set_option('display.float_format', lambda x: '%.2f' % x)"
   ]
  },
  {
   "cell_type": "markdown",
   "metadata": {},
   "source": [
    "## Acquisition"
   ]
  },
  {
   "cell_type": "code",
   "execution_count": 3,
   "metadata": {
    "ExecuteTime": {
     "end_time": "2019-05-28T19:16:23.705150Z",
     "start_time": "2019-05-28T19:16:23.491123Z"
    }
   },
   "outputs": [],
   "source": [
    "df = pd.read_csv('../agents_with_transactions.csv')"
   ]
  },
  {
   "cell_type": "markdown",
   "metadata": {},
   "source": [
    "## Preparation"
   ]
  },
  {
   "cell_type": "markdown",
   "metadata": {},
   "source": [
    "**Lowercasing all column names**"
   ]
  },
  {
   "cell_type": "code",
   "execution_count": null,
   "metadata": {},
   "outputs": [],
   "source": [
    "[df.rename(columns=lambda x: x.lower(), inplace=True) for col in df]"
   ]
  },
  {
   "cell_type": "code",
   "execution_count": 8,
   "metadata": {
    "ExecuteTime": {
     "end_time": "2019-05-28T19:30:41.474178Z",
     "start_time": "2019-05-28T19:30:41.430761Z"
    }
   },
   "outputs": [
    {
     "data": {
      "text/html": [
       "<div>\n",
       "<style scoped>\n",
       "    .dataframe tbody tr th:only-of-type {\n",
       "        vertical-align: middle;\n",
       "    }\n",
       "\n",
       "    .dataframe tbody tr th {\n",
       "        vertical-align: top;\n",
       "    }\n",
       "\n",
       "    .dataframe thead th {\n",
       "        text-align: right;\n",
       "    }\n",
       "</style>\n",
       "<table border=\"1\" class=\"dataframe\">\n",
       "  <thead>\n",
       "    <tr style=\"text-align: right;\">\n",
       "      <th></th>\n",
       "      <th>agent_id</th>\n",
       "      <th>agent_name</th>\n",
       "      <th>commission_anniversary</th>\n",
       "      <th>brokerage_id</th>\n",
       "      <th>brokerage_name</th>\n",
       "      <th>commission_schedule_id</th>\n",
       "      <th>commission_schedule_effective_start_at</th>\n",
       "      <th>commission_schedule_effective_end_at</th>\n",
       "      <th>commission_schedule_active</th>\n",
       "      <th>commission_schedule_strategy</th>\n",
       "      <th>transaction_id</th>\n",
       "      <th>transaction_number</th>\n",
       "      <th>transaction_contracted_at</th>\n",
       "      <th>transaction_closed_at</th>\n",
       "      <th>transaction_effective_at</th>\n",
       "      <th>transaction_status</th>\n",
       "      <th>transaction_sales_amount</th>\n",
       "      <th>transaction_list_amount</th>\n",
       "      <th>earned_side_count</th>\n",
       "      <th>earned_volume</th>\n",
       "      <th>transaction_side</th>\n",
       "      <th>standard_commission_type</th>\n",
       "      <th>standard_commission_gci_amount</th>\n",
       "      <th>standard_commission_agent_net_amount</th>\n",
       "      <th>standard_commission_brokerage_net_amount</th>\n",
       "      <th>bonus_commission_type</th>\n",
       "      <th>bonus_commission_agent_net_amount</th>\n",
       "      <th>bonus_commission_brokerage_net_amount</th>\n",
       "    </tr>\n",
       "  </thead>\n",
       "  <tbody>\n",
       "    <tr>\n",
       "      <th>0</th>\n",
       "      <td>QWdlbnQtMjQwOA==</td>\n",
       "      <td>Niranye Lothaire</td>\n",
       "      <td>NaN</td>\n",
       "      <td>QnJva2VyYWdlLTQyMQ==</td>\n",
       "      <td>Falmer Shadowmaster Shor's Stone - Dawnstar</td>\n",
       "      <td>Q29tbWlzc2lvblNjaGVkdWxlLTY3MDk=</td>\n",
       "      <td>2018-05-30</td>\n",
       "      <td>2019-05-29</td>\n",
       "      <td>True</td>\n",
       "      <td>Accumulation Strategy</td>\n",
       "      <td>QnJva2VyYWdlVHJhbnNhY3Rpb24tNTE1NTA=</td>\n",
       "      <td>BT20181213001</td>\n",
       "      <td>2018-11-08 06:00:00 UTC</td>\n",
       "      <td>2018-12-12 06:00:00 UTC</td>\n",
       "      <td>2018-12-12 06:00:00 UTC</td>\n",
       "      <td>OPEN</td>\n",
       "      <td>815000.00</td>\n",
       "      <td>0.00</td>\n",
       "      <td>1.00</td>\n",
       "      <td>815000.00</td>\n",
       "      <td>LISTING_SIDE</td>\n",
       "      <td>STANDARD</td>\n",
       "      <td>32600.00</td>\n",
       "      <td>27432.90</td>\n",
       "      <td>3048.10</td>\n",
       "      <td>NaN</td>\n",
       "      <td>nan</td>\n",
       "      <td>nan</td>\n",
       "    </tr>\n",
       "    <tr>\n",
       "      <th>1</th>\n",
       "      <td>QWdlbnQtMjY2Mw==</td>\n",
       "      <td>Umana Imyan</td>\n",
       "      <td>NaN</td>\n",
       "      <td>QnJva2VyYWdlLTQyMQ==</td>\n",
       "      <td>Falmer Shadowmaster Shor's Stone - Dawnstar</td>\n",
       "      <td>Q29tbWlzc2lvblNjaGVkdWxlLTYyNDE=</td>\n",
       "      <td>2018-12-03</td>\n",
       "      <td>2029-05-10</td>\n",
       "      <td>True</td>\n",
       "      <td>Flat Rate Strategy</td>\n",
       "      <td>QnJva2VyYWdlVHJhbnNhY3Rpb24tNTE1NTA=</td>\n",
       "      <td>BT20181213001</td>\n",
       "      <td>2018-11-08 06:00:00 UTC</td>\n",
       "      <td>2018-12-12 06:00:00 UTC</td>\n",
       "      <td>2018-12-12 06:00:00 UTC</td>\n",
       "      <td>OPEN</td>\n",
       "      <td>815000.00</td>\n",
       "      <td>0.00</td>\n",
       "      <td>0.00</td>\n",
       "      <td>0.00</td>\n",
       "      <td>SELLING_SIDE</td>\n",
       "      <td>NaN</td>\n",
       "      <td>nan</td>\n",
       "      <td>nan</td>\n",
       "      <td>nan</td>\n",
       "      <td>NaN</td>\n",
       "      <td>nan</td>\n",
       "      <td>nan</td>\n",
       "    </tr>\n",
       "    <tr>\n",
       "      <th>2</th>\n",
       "      <td>QWdlbnQtMjQwMA==</td>\n",
       "      <td>Gabriella Whitemane</td>\n",
       "      <td>NaN</td>\n",
       "      <td>QnJva2VyYWdlLTQyMQ==</td>\n",
       "      <td>Falmer Shadowmaster Shor's Stone - Dawnstar</td>\n",
       "      <td>Q29tbWlzc2lvblNjaGVkdWxlLTcwMjU=</td>\n",
       "      <td>2018-01-01</td>\n",
       "      <td>2018-12-31</td>\n",
       "      <td>True</td>\n",
       "      <td>Flat Rate Strategy</td>\n",
       "      <td>QnJva2VyYWdlVHJhbnNhY3Rpb24tNTE1NTU=</td>\n",
       "      <td>BT20181214001</td>\n",
       "      <td>2018-11-08 06:00:00 UTC</td>\n",
       "      <td>2018-12-14 13:59:12 UTC</td>\n",
       "      <td>2018-12-14 13:59:12 UTC</td>\n",
       "      <td>OPEN</td>\n",
       "      <td>221000.00</td>\n",
       "      <td>0.00</td>\n",
       "      <td>1.00</td>\n",
       "      <td>221000.00</td>\n",
       "      <td>LISTING_SIDE</td>\n",
       "      <td>NaN</td>\n",
       "      <td>nan</td>\n",
       "      <td>nan</td>\n",
       "      <td>nan</td>\n",
       "      <td>NaN</td>\n",
       "      <td>nan</td>\n",
       "      <td>nan</td>\n",
       "    </tr>\n",
       "    <tr>\n",
       "      <th>3</th>\n",
       "      <td>QWdlbnQtMjQzOA==</td>\n",
       "      <td>Gormlaith Battle-Born</td>\n",
       "      <td>NaN</td>\n",
       "      <td>QnJva2VyYWdlLTQyMQ==</td>\n",
       "      <td>Falmer Shadowmaster Shor's Stone - Dawnstar</td>\n",
       "      <td>Q29tbWlzc2lvblNjaGVkdWxlLTcwMjg=</td>\n",
       "      <td>2018-01-01</td>\n",
       "      <td>2018-12-31</td>\n",
       "      <td>True</td>\n",
       "      <td>Flat Rate Strategy</td>\n",
       "      <td>QnJva2VyYWdlVHJhbnNhY3Rpb24tNTE1NTU=</td>\n",
       "      <td>BT20181214001</td>\n",
       "      <td>2018-11-08 06:00:00 UTC</td>\n",
       "      <td>2018-12-14 13:59:12 UTC</td>\n",
       "      <td>2018-12-14 13:59:12 UTC</td>\n",
       "      <td>OPEN</td>\n",
       "      <td>221000.00</td>\n",
       "      <td>0.00</td>\n",
       "      <td>0.00</td>\n",
       "      <td>33150.00</td>\n",
       "      <td>LISTING_SIDE</td>\n",
       "      <td>STANDARD</td>\n",
       "      <td>0.00</td>\n",
       "      <td>0.00</td>\n",
       "      <td>0.00</td>\n",
       "      <td>NaN</td>\n",
       "      <td>nan</td>\n",
       "      <td>nan</td>\n",
       "    </tr>\n",
       "    <tr>\n",
       "      <th>4</th>\n",
       "      <td>QWdlbnQtMjc4OQ==</td>\n",
       "      <td>Festus Golden-Hilt</td>\n",
       "      <td>NaN</td>\n",
       "      <td>QnJva2VyYWdlLTQyMQ==</td>\n",
       "      <td>Falmer Shadowmaster Shor's Stone - Dawnstar</td>\n",
       "      <td>Q29tbWlzc2lvblNjaGVkdWxlLTYzNjc=</td>\n",
       "      <td>2018-12-03</td>\n",
       "      <td>2029-05-10</td>\n",
       "      <td>True</td>\n",
       "      <td>Flat Rate Strategy</td>\n",
       "      <td>QnJva2VyYWdlVHJhbnNhY3Rpb24tNTE1NTU=</td>\n",
       "      <td>BT20181214001</td>\n",
       "      <td>2018-11-08 06:00:00 UTC</td>\n",
       "      <td>2018-12-14 13:59:12 UTC</td>\n",
       "      <td>2018-12-14 13:59:12 UTC</td>\n",
       "      <td>OPEN</td>\n",
       "      <td>221000.00</td>\n",
       "      <td>0.00</td>\n",
       "      <td>1.00</td>\n",
       "      <td>221000.00</td>\n",
       "      <td>LISTING_SIDE</td>\n",
       "      <td>NaN</td>\n",
       "      <td>nan</td>\n",
       "      <td>nan</td>\n",
       "      <td>nan</td>\n",
       "      <td>NaN</td>\n",
       "      <td>nan</td>\n",
       "      <td>nan</td>\n",
       "    </tr>\n",
       "  </tbody>\n",
       "</table>\n",
       "</div>"
      ],
      "text/plain": [
       "           agent_id             agent_name commission_anniversary          brokerage_id                               brokerage_name            commission_schedule_id commission_schedule_effective_start_at commission_schedule_effective_end_at  commission_schedule_active commission_schedule_strategy                        transaction_id transaction_number transaction_contracted_at    transaction_closed_at transaction_effective_at transaction_status  transaction_sales_amount  transaction_list_amount  earned_side_count  earned_volume transaction_side standard_commission_type  standard_commission_gci_amount  standard_commission_agent_net_amount  standard_commission_brokerage_net_amount bonus_commission_type  bonus_commission_agent_net_amount  bonus_commission_brokerage_net_amount\n",
       "0  QWdlbnQtMjQwOA==       Niranye Lothaire                    NaN  QnJva2VyYWdlLTQyMQ==  Falmer Shadowmaster Shor's Stone - Dawnstar  Q29tbWlzc2lvblNjaGVkdWxlLTY3MDk=                             2018-05-30                           2019-05-29                        True        Accumulation Strategy  QnJva2VyYWdlVHJhbnNhY3Rpb24tNTE1NTA=      BT20181213001   2018-11-08 06:00:00 UTC  2018-12-12 06:00:00 UTC  2018-12-12 06:00:00 UTC               OPEN                 815000.00                     0.00               1.00      815000.00     LISTING_SIDE                 STANDARD                        32600.00                              27432.90                                   3048.10                   NaN                                nan                                    nan\n",
       "1  QWdlbnQtMjY2Mw==            Umana Imyan                    NaN  QnJva2VyYWdlLTQyMQ==  Falmer Shadowmaster Shor's Stone - Dawnstar  Q29tbWlzc2lvblNjaGVkdWxlLTYyNDE=                             2018-12-03                           2029-05-10                        True           Flat Rate Strategy  QnJva2VyYWdlVHJhbnNhY3Rpb24tNTE1NTA=      BT20181213001   2018-11-08 06:00:00 UTC  2018-12-12 06:00:00 UTC  2018-12-12 06:00:00 UTC               OPEN                 815000.00                     0.00               0.00           0.00     SELLING_SIDE                      NaN                             nan                                   nan                                       nan                   NaN                                nan                                    nan\n",
       "2  QWdlbnQtMjQwMA==    Gabriella Whitemane                    NaN  QnJva2VyYWdlLTQyMQ==  Falmer Shadowmaster Shor's Stone - Dawnstar  Q29tbWlzc2lvblNjaGVkdWxlLTcwMjU=                             2018-01-01                           2018-12-31                        True           Flat Rate Strategy  QnJva2VyYWdlVHJhbnNhY3Rpb24tNTE1NTU=      BT20181214001   2018-11-08 06:00:00 UTC  2018-12-14 13:59:12 UTC  2018-12-14 13:59:12 UTC               OPEN                 221000.00                     0.00               1.00      221000.00     LISTING_SIDE                      NaN                             nan                                   nan                                       nan                   NaN                                nan                                    nan\n",
       "3  QWdlbnQtMjQzOA==  Gormlaith Battle-Born                    NaN  QnJva2VyYWdlLTQyMQ==  Falmer Shadowmaster Shor's Stone - Dawnstar  Q29tbWlzc2lvblNjaGVkdWxlLTcwMjg=                             2018-01-01                           2018-12-31                        True           Flat Rate Strategy  QnJva2VyYWdlVHJhbnNhY3Rpb24tNTE1NTU=      BT20181214001   2018-11-08 06:00:00 UTC  2018-12-14 13:59:12 UTC  2018-12-14 13:59:12 UTC               OPEN                 221000.00                     0.00               0.00       33150.00     LISTING_SIDE                 STANDARD                            0.00                                  0.00                                      0.00                   NaN                                nan                                    nan\n",
       "4  QWdlbnQtMjc4OQ==     Festus Golden-Hilt                    NaN  QnJva2VyYWdlLTQyMQ==  Falmer Shadowmaster Shor's Stone - Dawnstar  Q29tbWlzc2lvblNjaGVkdWxlLTYzNjc=                             2018-12-03                           2029-05-10                        True           Flat Rate Strategy  QnJva2VyYWdlVHJhbnNhY3Rpb24tNTE1NTU=      BT20181214001   2018-11-08 06:00:00 UTC  2018-12-14 13:59:12 UTC  2018-12-14 13:59:12 UTC               OPEN                 221000.00                     0.00               1.00      221000.00     LISTING_SIDE                      NaN                             nan                                   nan                                       nan                   NaN                                nan                                    nan"
      ]
     },
     "execution_count": 8,
     "metadata": {},
     "output_type": "execute_result"
    }
   ],
   "source": [
    "df.head()"
   ]
  },
  {
   "cell_type": "markdown",
   "metadata": {},
   "source": [
    "### Encoding various ID fields for readability and future usage."
   ]
  },
  {
   "cell_type": "code",
   "execution_count": 10,
   "metadata": {
    "ExecuteTime": {
     "end_time": "2019-05-28T19:37:09.950463Z",
     "start_time": "2019-05-28T19:37:09.872671Z"
    }
   },
   "outputs": [],
   "source": [
    "to_encode = ['agent_id', 'brokerage_id', 'transaction_id']\n",
    "\n",
    "for col in to_encode:\n",
    "    le = LabelEncoder().fit(df[col])\n",
    "    df[col] = le.transform(df[col])"
   ]
  },
  {
   "cell_type": "markdown",
   "metadata": {},
   "source": [
    "### Correcting dates that won't get transitioned over"
   ]
  },
  {
   "cell_type": "code",
   "execution_count": 11,
   "metadata": {
    "ExecuteTime": {
     "end_time": "2019-05-28T19:43:34.720707Z",
     "start_time": "2019-05-28T19:43:34.416588Z"
    }
   },
   "outputs": [],
   "source": [
    "# Transactions contracted at errors fixed\n",
    "df.loc[df.transaction_id == 7686, 'transaction_contracted_at'] = \"2018-07-31 12:00:00 UTC\"\n",
    "df.loc[df.transaction_id == 3874, 'transaction_contracted_at'] = \"2019-04-17 04:56:02 UTC\"\n",
    "df.loc[df.transaction_id == 4084, 'transaction_contracted_at'] = \"2019-04-22 04:56:02 UTC\"\n",
    "df.loc[df.transaction_id == 11335, 'transaction_contracted_at'] = \"2019-01-25 05:50:36 UTC\"\n",
    "df.loc[df.transaction_id == 11400, 'transaction_contracted_at'] = \"2019-01-29 12:00:00 UTC\"\n",
    "df.loc[df.transaction_id == 12536, 'transaction_contracted_at'] = \"2019-02-28 05:50:36 UTC\"\n",
    "df.loc[df.transaction_id == 5539, 'transaction_contracted_at'] = \"2019-04-30 12:00:00 UTC\"\n",
    "df.loc[df.transaction_id == 1234, 'transaction_contracted_at'] = \"2018-03-31 05:00:00 UTC\"\n",
    "df.loc[df.transaction_id == 6642, 'transaction_contracted_at'] = \"2018-05-31 12:00:00 UTC\"\n",
    "df.loc[df.transaction_id == 7864, 'transaction_contracted_at'] = \"2018-07-23 12:00:00 UTC\"\n",
    "df.loc[df.transaction_id == 9186, 'transaction_contracted_at'] = \"2018-11-15 05:50:36 UTC\"\n",
    "df.loc[df.transaction_id == 2106, 'transaction_contracted_at'] = \"2019-03-14 12:00:00 UTC\"\n",
    "df.loc[df.transaction_id == 4976, 'transaction_contracted_at'] = \"2019-05-12 12:00:00 UTC\"\n",
    "df.loc[df.transaction_id == 10732, 'transaction_contracted_at'] = \"2018-05-20 12:00:00 UTC\"\n",
    "df.loc[df.transaction_id == 2153, 'transaction_contracted_at'] = \"2018-12-20 12:00:00 UTC\"\n",
    "df.loc[df.transaction_id == 3582, 'transaction_contracted_at'] = \"2019-04-19 12:00:00 UTC\"\n",
    "df.loc[df.transaction_id == 1153, 'transaction_contracted_at'] = \"2018-07-28 05:50:36 UTC\"\n",
    "df.loc[df.transaction_id == 2474, 'transaction_contracted_at'] = \"2019-03-10 12:00:00 UTC\"\n",
    "\n",
    "# Transactions effective at errors fixed\n",
    "df.loc[df.transaction_id == 8017, 'transaction_effective_at'] = \"2018-08-31 12:00:00 UTC\"\n",
    "df.loc[df.transaction_id == 5675, 'transaction_effective_at'] = \"2019-07-22 12:00:00 UTC\"\n",
    "df.loc[df.transaction_id == 3423, 'transaction_effective_at'] = \"2019-11-12 12:00:00 UTC\"\n",
    "df.loc[df.transaction_id == 5141, 'transaction_effective_at'] = \"2019-06-14 12:00:00 UTC\""
   ]
  },
  {
   "cell_type": "markdown",
   "metadata": {},
   "source": [
    "### Converting non-times to actual times"
   ]
  },
  {
   "cell_type": "code",
   "execution_count": 12,
   "metadata": {
    "ExecuteTime": {
     "end_time": "2019-05-28T19:43:41.532411Z",
     "start_time": "2019-05-28T19:43:37.567152Z"
    }
   },
   "outputs": [],
   "source": [
    "df['transaction_contracted_at'] = pd.to_datetime(df.transaction_contracted_at, errors = 'coerce')\n",
    "df['transaction_effective_at'] = pd.to_datetime(df.transaction_effective_at, errors = 'coerce')"
   ]
  },
  {
   "cell_type": "markdown",
   "metadata": {},
   "source": [
    "### Column cleanup"
   ]
  },
  {
   "cell_type": "markdown",
   "metadata": {},
   "source": [
    "#### Bonus Columns Removing these due to 98%+ nulls\n"
   ]
  },
  {
   "cell_type": "code",
   "execution_count": 13,
   "metadata": {
    "ExecuteTime": {
     "end_time": "2019-05-28T19:46:19.202114Z",
     "start_time": "2019-05-28T19:46:19.181924Z"
    }
   },
   "outputs": [],
   "source": [
    "to_drop = [col for col in df if col.startswith('bonus_')]\n",
    "df.drop(columns=to_drop, inplace=True)"
   ]
  },
  {
   "cell_type": "markdown",
   "metadata": {},
   "source": [
    "#### Dropping standard_commission_type as it only has one variable and nulls"
   ]
  },
  {
   "cell_type": "code",
   "execution_count": 14,
   "metadata": {
    "ExecuteTime": {
     "end_time": "2019-05-28T19:47:58.906069Z",
     "start_time": "2019-05-28T19:47:58.898266Z"
    }
   },
   "outputs": [],
   "source": [
    "df.drop(columns='standard_commission_type', inplace=True)"
   ]
  },
  {
   "cell_type": "markdown",
   "metadata": {},
   "source": [
    "#### Imputing nulls with 0"
   ]
  },
  {
   "cell_type": "code",
   "execution_count": 16,
   "metadata": {
    "ExecuteTime": {
     "end_time": "2019-05-28T19:49:08.470907Z",
     "start_time": "2019-05-28T19:49:08.464884Z"
    }
   },
   "outputs": [],
   "source": [
    "df.standard_commission_gci_amount.fillna(value=0, inplace=True)\n",
    "df.standard_commission_brokerage_net_amount.fillna(value=0, inplace=True)"
   ]
  },
  {
   "cell_type": "markdown",
   "metadata": {},
   "source": [
    "## Exploration"
   ]
  },
  {
   "cell_type": "markdown",
   "metadata": {},
   "source": [
    "## Modeling"
   ]
  },
  {
   "cell_type": "code",
   "execution_count": null,
   "metadata": {},
   "outputs": [],
   "source": []
  }
 ],
 "metadata": {
  "jupytext": {
   "formats": "ipynb,py:light",
   "text_representation": {
    "extension": ".py",
    "format_name": "light",
    "format_version": "1.4",
    "jupytext_version": "1.1.3"
   }
  },
  "kernelspec": {
   "display_name": "Python 3",
   "language": "python",
   "name": "python3"
  },
  "language_info": {
   "codemirror_mode": {
    "name": "ipython",
    "version": 3
   },
   "file_extension": ".py",
   "mimetype": "text/x-python",
   "name": "python",
   "nbconvert_exporter": "python",
   "pygments_lexer": "ipython3",
   "version": "3.7.1"
  },
  "toc": {
   "base_numbering": 1,
   "nav_menu": {},
   "number_sections": true,
   "sideBar": true,
   "skip_h1_title": false,
   "title_cell": "Table of Contents",
   "title_sidebar": "Contents",
   "toc_cell": true,
   "toc_position": {
    "height": "calc(100% - 180px)",
    "left": "10px",
    "top": "150px",
    "width": "165px"
   },
   "toc_section_display": true,
   "toc_window_display": true
  }
 },
 "nbformat": 4,
 "nbformat_minor": 2
}
