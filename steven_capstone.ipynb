{
 "cells": [
  {
   "cell_type": "code",
   "execution_count": 1,
   "metadata": {},
   "outputs": [],
   "source": [
    "import pandas as pd\n",
    "import numpy as np\n",
    "\n",
    "\n",
    "\n",
    "import matplotlib.pyplot as plt\n",
    "import seaborn as sns\n",
    "%matplotlib inline\n",
    "sns.set_style('darkgrid')\n",
    "\n",
    "from sklearn.preprocessing import StandardScaler\n",
    "from sklearn.preprocessing import LabelEncoder\n",
    "\n",
    "from sklearn.model_selection import cross_val_score\n",
    "from sklearn.model_selection import GridSearchCV\n",
    "from sklearn.model_selection import train_test_split\n",
    "\n",
    "\n",
    "from sklearn.linear_model import LogisticRegression\n",
    "from sklearn.tree import DecisionTreeClassifier\n",
    "from sklearn.ensemble import RandomForestClassifier\n",
    "from sklearn.neighbors import KNeighborsClassifier\n",
    "\n",
    "from sklearn.metrics import classification_report\n",
    "from sklearn.metrics import confusion_matrix\n",
    "\n",
    "\n",
    "\n",
    "\n",
    "\n",
    "\n",
    "\n",
    "import warnings\n",
    "warnings.filterwarnings(\"ignore\")\n",
    "\n",
    "pd.set_option('display.max_rows', 1000)\n",
    "pd.set_option('display.max_columns', 500)\n",
    "pd.set_option('display.width', 1000)\n",
    "pd.set_option('display.float_format', lambda x: '%.2f' % x)\n"
   ]
  },
  {
   "cell_type": "code",
   "execution_count": 2,
   "metadata": {},
   "outputs": [],
   "source": [
    "df = pd.read_csv('agents_with_transactions.csv')"
   ]
  },
  {
   "cell_type": "code",
   "execution_count": 3,
   "metadata": {},
   "outputs": [],
   "source": [
    "le = LabelEncoder()\n",
    "df = df.assign(TRANSACTION_ID=le.fit(df['TRANSACTION_ID']).transform(df['TRANSACTION_ID']))\n"
   ]
  },
  {
   "cell_type": "code",
   "execution_count": 4,
   "metadata": {},
   "outputs": [],
   "source": [
    "df.loc[df.TRANSACTION_ID == 7686, 'TRANSACTION_CONTRACTED_AT'] = \"2018-07-31 12:00:00 UTC\"\n",
    "df.loc[df.TRANSACTION_ID == 3874, 'TRANSACTION_CONTRACTED_AT'] = \"2019-04-17 04:56:02 UTC\"\n",
    "df.loc[df.TRANSACTION_ID == 4084, 'TRANSACTION_CONTRACTED_AT'] = \"2019-04-22 04:56:02 UTC\"\n",
    "df.loc[df.TRANSACTION_ID == 11335, 'TRANSACTION_CONTRACTED_AT'] = \"2019-01-25 05:50:36 UTC\"\n",
    "df.loc[df.TRANSACTION_ID == 11400, 'TRANSACTION_CONTRACTED_AT'] = \"2019-01-29 12:00:00 UTC\"\n",
    "df.loc[df.TRANSACTION_ID == 12536, 'TRANSACTION_CONTRACTED_AT'] = \"2019-02-28 05:50:36 UTC\"\n",
    "df.loc[df.TRANSACTION_ID == 5539, 'TRANSACTION_CONTRACTED_AT'] = \"2019-04-30 12:00:00 UTC\"\n",
    "df.loc[df.TRANSACTION_ID == 1234, 'TRANSACTION_CONTRACTED_AT'] = \"2018-03-31 05:00:00 UTC\"\n",
    "df.loc[df.TRANSACTION_ID == 6642, 'TRANSACTION_CONTRACTED_AT'] = \"2018-05-31 12:00:00 UTC\"\n",
    "df.loc[df.TRANSACTION_ID == 7864, 'TRANSACTION_CONTRACTED_AT'] = \"2018-07-23 12:00:00 UTC\"\n",
    "df.loc[df.TRANSACTION_ID == 9186, 'TRANSACTION_CONTRACTED_AT'] = \"2018-11-15 05:50:36 UTC\"\n",
    "df.loc[df.TRANSACTION_ID == 2106, 'TRANSACTION_CONTRACTED_AT'] = \"2019-03-14 12:00:00 UTC\"\n",
    "df.loc[df.TRANSACTION_ID == 4976, 'TRANSACTION_CONTRACTED_AT'] = \"2019-05-12 12:00:00 UTC\"\n",
    "df.loc[df.TRANSACTION_ID == 10732, 'TRANSACTION_CONTRACTED_AT'] = \"2018-05-20 12:00:00 UTC\"\n",
    "df.loc[df.TRANSACTION_ID == 2153, 'TRANSACTION_CONTRACTED_AT'] = \"2018-12-20 12:00:00 UTC\"\n",
    "df.loc[df.TRANSACTION_ID == 3582, 'TRANSACTION_CONTRACTED_AT'] = \"2019-04-19 12:00:00 UTC\"\n",
    "df.loc[df.TRANSACTION_ID == 1153, 'TRANSACTION_CONTRACTED_AT'] = \"2018-07-28 05:50:36 UTC\"\n",
    "df.loc[df.TRANSACTION_ID == 2474, 'TRANSACTION_CONTRACTED_AT'] = \"2019-03-10 12:00:00 UTC\"\n",
    "\n",
    "\n",
    "df.loc[df.TRANSACTION_ID == 8017, 'TRANSACTION_EFFECTIVE_AT'] = \"2018-08-31 12:00:00 UTC\"\n",
    "df.loc[df.TRANSACTION_ID == 5675, 'TRANSACTION_EFFECTIVE_AT'] = \"2019-07-22 12:00:00 UTC\"\n",
    "df.loc[df.TRANSACTION_ID == 3423, 'TRANSACTION_EFFECTIVE_AT'] = \"2019-11-12 12:00:00 UTC\"\n",
    "df.loc[df.TRANSACTION_ID == 5141, 'TRANSACTION_EFFECTIVE_AT'] = \"2019-06-14 12:00:00 UTC\"\n"
   ]
  },
  {
   "cell_type": "code",
   "execution_count": 5,
   "metadata": {},
   "outputs": [],
   "source": [
    "df['TRANSACTION_CONTRACTED_AT'] = pd.to_datetime(df.TRANSACTION_CONTRACTED_AT, errors = 'coerce')\n",
    "df['TRANSACTION_EFFECTIVE_AT'] = pd.to_datetime(df.TRANSACTION_EFFECTIVE_AT, errors = 'coerce')"
   ]
  },
  {
   "cell_type": "code",
   "execution_count": 6,
   "metadata": {},
   "outputs": [
    {
     "data": {
      "text/plain": [
       "AGENT_ID                                        0\n",
       "AGENT_NAME                                      0\n",
       "COMMISSION_ANNIVERSARY                       8365\n",
       "BROKERAGE_ID                                    0\n",
       "BROKERAGE_NAME                                  0\n",
       "COMMISSION_SCHEDULE_ID                          0\n",
       "COMMISSION_SCHEDULE_EFFECTIVE_START_AT          0\n",
       "COMMISSION_SCHEDULE_EFFECTIVE_END_AT            0\n",
       "COMMISSION_SCHEDULE_ACTIVE                      0\n",
       "COMMISSION_SCHEDULE_STRATEGY                    0\n",
       "TRANSACTION_ID                                  0\n",
       "TRANSACTION_NUMBER                              0\n",
       "TRANSACTION_CONTRACTED_AT                       0\n",
       "TRANSACTION_CLOSED_AT                           0\n",
       "TRANSACTION_EFFECTIVE_AT                        0\n",
       "TRANSACTION_STATUS                              0\n",
       "TRANSACTION_SALES_AMOUNT                        0\n",
       "TRANSACTION_LIST_AMOUNT                         0\n",
       "EARNED_SIDE_COUNT                               0\n",
       "EARNED_VOLUME                                   0\n",
       "TRANSACTION_SIDE                                0\n",
       "STANDARD_COMMISSION_TYPE                     1823\n",
       "STANDARD_COMMISSION_GCI_AMOUNT               1823\n",
       "STANDARD_COMMISSION_AGENT_NET_AMOUNT         1823\n",
       "STANDARD_COMMISSION_BROKERAGE_NET_AMOUNT     1823\n",
       "BONUS_COMMISSION_TYPE                       16412\n",
       "BONUS_COMMISSION_AGENT_NET_AMOUNT           16412\n",
       "BONUS_COMMISSION_BROKERAGE_NET_AMOUNT       16412\n",
       "dtype: int64"
      ]
     },
     "execution_count": 6,
     "metadata": {},
     "output_type": "execute_result"
    }
   ],
   "source": [
    "df.isnull().sum()"
   ]
  },
  {
   "cell_type": "code",
   "execution_count": null,
   "metadata": {},
   "outputs": [],
   "source": [
    "'10732' '0002-05-20 12:00:00 UTC'\n",
    "'2153' '0003-12-20 12:00:00 UTC'      \n",
    "'3582' '0004-04-19 12:00:00 UTC'\n",
    "'1153' '0201-07-28 05:50:36 UTC'\n",
    "'2474' '0009-03-10 12:00:00 UTC'\n",
    "\n",
    "'7686' '2018-07-31 12:00:00 UTC'\n",
    "'3874' '2019-04-17 04:56:02 UTC'   \n",
    "'4084' '2019-04-22 04:56:02 UTC'       \n",
    "'11335' '2019-01-25 05:50:36 UTC'\n",
    "'11400' '2019-01-29 12:00:00 UTC'\n",
    "'12536' '2019-02-28 05:50:36 UTC'      \n",
    "'5539' '2019-04-30 12:00:00 UTC'\n",
    "'1234' '2018-03-31 05:00:00 UTC'\n",
    "'6642' '2018-05-31 12:00:00 UTC'\n",
    "'7864' '2018-07-23 12:00:00 UTC'\n",
    "'9186' '2018-11-15 05:50:36 UTC'\n",
    "'2106' '2019-03-14 12:00:00 UTC'\n",
    "'4976' '2019-05-12 12:00:00 UTC'\n",
    "\n",
    "\n",
    "\n",
    "8017\t2018-08-31 12:00:00 UTC\n",
    "5675\t2019-07-22 12:00:00 UTC\n",
    "3423\t2019-11-12 12:00:00 UTC\n",
    "5141\t2019-06-14 12:00:00 UTC"
   ]
  },
  {
   "cell_type": "code",
   "execution_count": null,
   "metadata": {},
   "outputs": [],
   "source": []
  },
  {
   "cell_type": "code",
   "execution_count": null,
   "metadata": {},
   "outputs": [],
   "source": []
  },
  {
   "cell_type": "code",
   "execution_count": null,
   "metadata": {},
   "outputs": [],
   "source": []
  },
  {
   "cell_type": "code",
   "execution_count": null,
   "metadata": {},
   "outputs": [],
   "source": []
  },
  {
   "cell_type": "code",
   "execution_count": null,
   "metadata": {},
   "outputs": [],
   "source": []
  },
  {
   "cell_type": "code",
   "execution_count": null,
   "metadata": {},
   "outputs": [],
   "source": [
    "full_df.head()"
   ]
  },
  {
   "cell_type": "code",
   "execution_count": null,
   "metadata": {},
   "outputs": [],
   "source": [
    "full_df.shape"
   ]
  },
  {
   "cell_type": "code",
   "execution_count": null,
   "metadata": {
    "scrolled": true
   },
   "outputs": [],
   "source": [
    "full_df.isnull().sum()"
   ]
  },
  {
   "cell_type": "code",
   "execution_count": null,
   "metadata": {
    "lines_to_next_cell": 2
   },
   "outputs": [],
   "source": [
    "df = full_df[['AGENT_ID',\n",
    "              'BROKERAGE_ID',\n",
    "              'COMMISSION_SCHEDULE_STRATEGY',\n",
    "              'TRANSACTION_ID',\n",
    "              'TRANSACTION_CONTRACTED_AT',\n",
    "              'TRANSACTION_EFFECTIVE_AT',\n",
    "              'TRANSACTION_SALES_AMOUNT',\n",
    "              'TRANSACTION_SIDE',\n",
    "              'EARNED_SIDE_COUNT',\n",
    "              'EARNED_VOLUME',\n",
    "              'STANDARD_COMMISSION_GCI_AMOUNT',\n",
    "              'STANDARD_COMMISSION_AGENT_NET_AMOUNT',\n",
    "              'STANDARD_COMMISSION_BROKERAGE_NET_AMOUNT']]"
   ]
  },
  {
   "cell_type": "code",
   "execution_count": null,
   "metadata": {},
   "outputs": [],
   "source": [
    "df"
   ]
  },
  {
   "cell_type": "code",
   "execution_count": null,
   "metadata": {},
   "outputs": [],
   "source": [
    "from sklearn.preprocessing import LabelEncoder\n",
    "\n",
    "le = LabelEncoder()\n",
    "df = df.assign(AGENT_ID=le.fit(df['AGENT_ID']).transform(df['AGENT_ID']))\n",
    "df = df.assign(BROKERAGE_ID=le.fit(df['BROKERAGE_ID']).transform(df['BROKERAGE_ID']))\n",
    "df = df.assign(TRANSACTION_ID=le.fit(df['TRANSACTION_ID']).transform(df['TRANSACTION_ID']))\n"
   ]
  },
  {
   "cell_type": "code",
   "execution_count": null,
   "metadata": {},
   "outputs": [],
   "source": [
    "df"
   ]
  },
  {
   "cell_type": "code",
   "execution_count": null,
   "metadata": {},
   "outputs": [],
   "source": [
    "df = df[df['TRANSACTION_SALES_AMOUNT']<35000000]"
   ]
  },
  {
   "cell_type": "code",
   "execution_count": null,
   "metadata": {},
   "outputs": [],
   "source": [
    "df.to_csv('cut_df.csv')"
   ]
  },
  {
   "cell_type": "code",
   "execution_count": null,
   "metadata": {},
   "outputs": [],
   "source": [
    "df.sort_values('TRANSACTION_CONTRACTED_AT')"
   ]
  },
  {
   "cell_type": "code",
   "execution_count": null,
   "metadata": {},
   "outputs": [],
   "source": []
  },
  {
   "cell_type": "code",
   "execution_count": null,
   "metadata": {},
   "outputs": [],
   "source": []
  },
  {
   "cell_type": "code",
   "execution_count": null,
   "metadata": {},
   "outputs": [],
   "source": []
  },
  {
   "cell_type": "code",
   "execution_count": null,
   "metadata": {},
   "outputs": [],
   "source": []
  },
  {
   "cell_type": "code",
   "execution_count": null,
   "metadata": {},
   "outputs": [],
   "source": []
  },
  {
   "cell_type": "code",
   "execution_count": null,
   "metadata": {},
   "outputs": [],
   "source": []
  },
  {
   "cell_type": "code",
   "execution_count": null,
   "metadata": {},
   "outputs": [],
   "source": []
  },
  {
   "cell_type": "code",
   "execution_count": null,
   "metadata": {},
   "outputs": [],
   "source": []
  },
  {
   "cell_type": "code",
   "execution_count": null,
   "metadata": {},
   "outputs": [],
   "source": [
    "total_sales = df.groupby('AGENT_ID').sum().sort_values('TRANSACTION_SALES_AMOUNT',ascending=False)"
   ]
  },
  {
   "cell_type": "code",
   "execution_count": null,
   "metadata": {},
   "outputs": [],
   "source": [
    "five_mil = total_sales[total_sales['TRANSACTION_SALES_AMOUNT']>5000000]"
   ]
  },
  {
   "cell_type": "code",
   "execution_count": null,
   "metadata": {},
   "outputs": [],
   "source": [
    "five_mil_agent_id = five_mil.index"
   ]
  },
  {
   "cell_type": "code",
   "execution_count": null,
   "metadata": {},
   "outputs": [],
   "source": [
    "five_mil_agent_id"
   ]
  },
  {
   "cell_type": "code",
   "execution_count": null,
   "metadata": {},
   "outputs": [],
   "source": [
    "df['is_5mil'] = df['AGENT_ID'].isin(five_mil_agent_id).astype(int)"
   ]
  },
  {
   "cell_type": "code",
   "execution_count": null,
   "metadata": {},
   "outputs": [],
   "source": [
    "df"
   ]
  },
  {
   "cell_type": "code",
   "execution_count": null,
   "metadata": {},
   "outputs": [],
   "source": []
  },
  {
   "cell_type": "code",
   "execution_count": null,
   "metadata": {},
   "outputs": [],
   "source": [
    "df['TRANSACTION_CONTRACTED_AT'] = pd.to_datetime(df.TRANSACTION_CONTRACTED_AT, errors = 'coerce')\n",
    "df['TRANSACTION_EFFECTIVE_AT'] = pd.to_datetime(df.TRANSACTION_EFFECTIVE_AT, errors = 'coerce')"
   ]
  },
  {
   "cell_type": "code",
   "execution_count": null,
   "metadata": {},
   "outputs": [],
   "source": [
    "df.sort_values('TRANSACTION_CONTRACTED_AT')"
   ]
  },
  {
   "cell_type": "code",
   "execution_count": null,
   "metadata": {},
   "outputs": [],
   "source": []
  },
  {
   "cell_type": "code",
   "execution_count": null,
   "metadata": {},
   "outputs": [],
   "source": []
  },
  {
   "cell_type": "code",
   "execution_count": null,
   "metadata": {},
   "outputs": [],
   "source": []
  },
  {
   "cell_type": "code",
   "execution_count": null,
   "metadata": {},
   "outputs": [],
   "source": []
  },
  {
   "cell_type": "code",
   "execution_count": null,
   "metadata": {},
   "outputs": [],
   "source": []
  },
  {
   "cell_type": "code",
   "execution_count": null,
   "metadata": {
    "lines_to_next_cell": 2
   },
   "outputs": [],
   "source": []
  },
  {
   "cell_type": "code",
   "execution_count": null,
   "metadata": {},
   "outputs": [],
   "source": [
    "df"
   ]
  },
  {
   "cell_type": "code",
   "execution_count": null,
   "metadata": {},
   "outputs": [],
   "source": []
  }
 ],
 "metadata": {
  "jupytext": {
   "formats": "ipynb,py:light"
  },
  "kernelspec": {
   "display_name": "Python 3",
   "language": "python",
   "name": "python3"
  },
  "language_info": {
   "codemirror_mode": {
    "name": "ipython",
    "version": 3
   },
   "file_extension": ".py",
   "mimetype": "text/x-python",
   "name": "python",
   "nbconvert_exporter": "python",
   "pygments_lexer": "ipython3",
   "version": "3.7.1"
  }
 },
 "nbformat": 4,
 "nbformat_minor": 2
}
